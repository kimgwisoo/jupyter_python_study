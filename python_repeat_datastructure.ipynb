{
 "metadata": {
  "language_info": {
   "codemirror_mode": {
    "name": "ipython",
    "version": 3
   },
   "file_extension": ".py",
   "mimetype": "text/x-python",
   "name": "python",
   "nbconvert_exporter": "python",
   "pygments_lexer": "ipython3",
   "version": "3.7.6-final"
  },
  "orig_nbformat": 2,
  "kernelspec": {
   "name": "Python 3.7.6 64-bit ('base': conda)",
   "display_name": "Python 3.7.6 64-bit ('base': conda)",
   "metadata": {
    "interpreter": {
     "hash": "15bc54dd3cab612613c542227413ee8ecea986d8c5753dfe5a1a355e58ce028c"
    }
   }
  }
 },
 "nbformat": 4,
 "nbformat_minor": 2,
 "cells": [
  {
   "cell_type": "code",
   "execution_count": 7,
   "metadata": {
    "tags": []
   },
   "outputs": [],
   "source": [
    "def funcl ():\n",
    "    print(\"Hello!\")\n",
    "    print(\"Hello!\")\n",
    "    print(\"Hello!\")\n",
    "    print(\"Hello!\")"
   ]
  },
  {
   "cell_type": "code",
   "execution_count": 14,
   "metadata": {
    "tags": []
   },
   "outputs": [],
   "source": [
    "def funcl(parameter, parameter2):\n",
    "    print(\"Hello!\", parameter)\n",
    "    print(\"Hello!\", parameter2)"
   ]
  },
  {
   "cell_type": "code",
   "execution_count": 15,
   "metadata": {
    "tags": []
   },
   "outputs": [
    {
     "output_type": "stream",
     "name": "stdout",
     "text": "Hello! Python\nHello! java\n"
    }
   ],
   "source": [
    "funcl(\"Python\", \"java\")"
   ]
  },
  {
   "source": [
    "# 용어\n",
    "\n",
    "* 인풋 (input), 인자(argument, parameter)\n"
   ],
   "cell_type": "markdown",
   "metadata": {}
  },
  {
   "cell_type": "code",
   "execution_count": 20,
   "metadata": {},
   "outputs": [],
   "source": [
    "def func(d1, d2):\n",
    "    print(d1 + d2)\n",
    "    return d1 + d2"
   ]
  },
  {
   "cell_type": "code",
   "execution_count": 21,
   "metadata": {
    "tags": []
   },
   "outputs": [
    {
     "output_type": "stream",
     "name": "stdout",
     "text": "PythonJAVA\nPythonJAVA\n"
    }
   ],
   "source": [
    "y = func(\"Python\", \"JAVA\")\n",
    "print(y)"
   ]
  },
  {
   "cell_type": "code",
   "execution_count": 23,
   "metadata": {
    "tags": []
   },
   "outputs": [
    {
     "output_type": "stream",
     "name": "stdout",
     "text": "6\n"
    }
   ],
   "source": [
    "def awe_sum(a,b):\n",
    "    # 지역변수(local variable)\n",
    "    c = 1 \n",
    "    result = a + b + c\n",
    "    return result\n",
    "    \n",
    "# 전역변수(global variable)\n",
    "a = 1\n",
    "print(awe_sum(2,3))"
   ]
  },
  {
   "source": [
    "# 데이터 구조\n",
    "\n",
    "* 선언 + 입력: 변수명 = (1,2,3,4)\n",
    "* 읽기: 변수명[인덱스번호]\n",
    "* 추가: 불가\n",
    "* 삭제: 불가\n",
    "* 수정: 불가"
   ],
   "cell_type": "markdown",
   "metadata": {}
  },
  {
   "cell_type": "code",
   "execution_count": 28,
   "metadata": {},
   "outputs": [],
   "source": [
    "data = (1,2,3)"
   ]
  },
  {
   "cell_type": "code",
   "execution_count": 30,
   "metadata": {},
   "outputs": [
    {
     "output_type": "execute_result",
     "data": {
      "text/plain": "tuple"
     },
     "metadata": {},
     "execution_count": 30
    }
   ],
   "source": [
    "type(data)"
   ]
  },
  {
   "cell_type": "code",
   "execution_count": 33,
   "metadata": {},
   "outputs": [],
   "source": [
    "x = 1\n",
    "y = 2"
   ]
  },
  {
   "cell_type": "code",
   "execution_count": 38,
   "metadata": {
    "tags": []
   },
   "outputs": [
    {
     "output_type": "stream",
     "name": "stdout",
     "text": "2\n1\n"
    }
   ],
   "source": [
    "x, y = y, x\n",
    "print(x)\n",
    "print(y)\n",
    "\n",
    "# 위 방식은 \n",
    "# temp = x\n",
    "# x = y\n",
    "# y = temp\n",
    "# 각 변수에 값 위치 바꾸기 위함\n"
   ]
  },
  {
   "source": [
    "# 데이터 구조: 딕셔너리 또는 사전\n",
    "\n",
    "* 선언 + 입력: 변수명 = {} 또는  dict(), 초기값과 함께 선언, 변수명 = {키:값, 키:값}\n",
    "* 읽기: 변수명[키]\n",
    "* 추가: 변수명[새로운키] = 새로운 값\n",
    "* 삭제: del 변수명[삭제할키]\n",
    "* 수정: 변수명[수정할키] = 수정할 값\n",
    "* 키 값만 수정 할 수는 없다."
   ],
   "cell_type": "markdown",
   "metadata": {}
  },
  {
   "cell_type": "code",
   "execution_count": null,
   "metadata": {},
   "outputs": [],
   "source": [
    "d_list = list() # []\n",
    "d_tuple = tuple() # ()\n",
    "d_dict = dict() #{}"
   ]
  },
  {
   "cell_type": "code",
   "execution_count": 41,
   "metadata": {},
   "outputs": [],
   "source": [
    "d_dict = {'한국':'KR', '일본':'JP', '중국':'CN'}"
   ]
  },
  {
   "cell_type": "code",
   "execution_count": 42,
   "metadata": {},
   "outputs": [
    {
     "output_type": "execute_result",
     "data": {
      "text/plain": "'KR'"
     },
     "metadata": {},
     "execution_count": 42
    }
   ],
   "source": [
    "d_dict['한국']"
   ]
  },
  {
   "cell_type": "code",
   "execution_count": 43,
   "metadata": {},
   "outputs": [],
   "source": [
    "d_dict['미국'] =  'US'"
   ]
  },
  {
   "cell_type": "code",
   "execution_count": 48,
   "metadata": {},
   "outputs": [
    {
     "output_type": "execute_result",
     "data": {
      "text/plain": "{'한국': 'KR', '중국': 'CN', '미국': 'US'}"
     },
     "metadata": {},
     "execution_count": 48
    }
   ],
   "source": [
    "d_dict"
   ]
  },
  {
   "cell_type": "code",
   "execution_count": 47,
   "metadata": {},
   "outputs": [],
   "source": [
    "del d_dict['일본']"
   ]
  },
  {
   "cell_type": "code",
   "execution_count": 49,
   "metadata": {},
   "outputs": [
    {
     "output_type": "execute_result",
     "data": {
      "text/plain": "dict_keys(['한국', '중국', '미국'])"
     },
     "metadata": {},
     "execution_count": 49
    }
   ],
   "source": [
    "d_dict.keys()"
   ]
  },
  {
   "cell_type": "code",
   "execution_count": 51,
   "metadata": {
    "tags": []
   },
   "outputs": [
    {
     "output_type": "stream",
     "name": "stdout",
     "text": "한국\n중국\n미국\n"
    }
   ],
   "source": [
    "for keys in d_dict.keys():\n",
    "    print(keys)"
   ]
  },
  {
   "cell_type": "code",
   "execution_count": 52,
   "metadata": {},
   "outputs": [
    {
     "output_type": "execute_result",
     "data": {
      "text/plain": "dict_values(['KR', 'CN', 'US'])"
     },
     "metadata": {},
     "execution_count": 52
    }
   ],
   "source": [
    "d_dict.values()"
   ]
  },
  {
   "cell_type": "code",
   "execution_count": 53,
   "metadata": {
    "tags": []
   },
   "outputs": [
    {
     "output_type": "stream",
     "name": "stdout",
     "text": "KR\nCN\nUS\n"
    }
   ],
   "source": [
    "for keys in d_dict.values():\n",
    "    print(keys)"
   ]
  },
  {
   "cell_type": "code",
   "execution_count": 54,
   "metadata": {},
   "outputs": [
    {
     "output_type": "execute_result",
     "data": {
      "text/plain": "dict_items([('한국', 'KR'), ('중국', 'CN'), ('미국', 'US')])"
     },
     "metadata": {},
     "execution_count": 54
    }
   ],
   "source": [
    "d_dict.items()"
   ]
  },
  {
   "cell_type": "code",
   "execution_count": 55,
   "metadata": {
    "tags": []
   },
   "outputs": [
    {
     "output_type": "stream",
     "name": "stdout",
     "text": "('한국', 'KR')\n('중국', 'CN')\n('미국', 'US')\n"
    }
   ],
   "source": [
    "for keys in d_dict.items():\n",
    "    print(keys)"
   ]
  },
  {
   "cell_type": "code",
   "execution_count": 56,
   "metadata": {
    "tags": []
   },
   "outputs": [
    {
     "output_type": "stream",
     "name": "stdout",
     "text": "KR\nCN\nUS\n"
    }
   ],
   "source": [
    "for keys in d_dict.keys():\n",
    "    print(d_dict[keys])"
   ]
  },
  {
   "cell_type": "code",
   "execution_count": null,
   "metadata": {},
   "outputs": [],
   "source": []
  },
  {
   "cell_type": "code",
   "execution_count": null,
   "metadata": {},
   "outputs": [],
   "source": []
  },
  {
   "cell_type": "code",
   "execution_count": null,
   "metadata": {},
   "outputs": [],
   "source": []
  },
  {
   "cell_type": "code",
   "execution_count": null,
   "metadata": {},
   "outputs": [],
   "source": []
  },
  {
   "cell_type": "code",
   "execution_count": null,
   "metadata": {},
   "outputs": [],
   "source": []
  },
  {
   "cell_type": "code",
   "execution_count": null,
   "metadata": {},
   "outputs": [],
   "source": []
  },
  {
   "cell_type": "code",
   "execution_count": null,
   "metadata": {},
   "outputs": [],
   "source": []
  },
  {
   "cell_type": "code",
   "execution_count": null,
   "metadata": {},
   "outputs": [],
   "source": []
  },
  {
   "cell_type": "code",
   "execution_count": null,
   "metadata": {},
   "outputs": [],
   "source": []
  }
 ]
}
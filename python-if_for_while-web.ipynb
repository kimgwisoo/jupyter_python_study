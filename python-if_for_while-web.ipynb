{
 "metadata": {
  "language_info": {
   "codemirror_mode": {
    "name": "ipython",
    "version": 3
   },
   "file_extension": ".py",
   "mimetype": "text/x-python",
   "name": "python",
   "nbconvert_exporter": "python",
   "pygments_lexer": "ipython3",
   "version": "3.7.6-final"
  },
  "orig_nbformat": 2,
  "kernelspec": {
   "name": "python_defaultSpec_1600820499590",
   "display_name": "Python 3.7.6 64-bit ('base': conda)"
  }
 },
 "nbformat": 4,
 "nbformat_minor": 2,
 "cells": [
  {
   "cell_type": "code",
   "execution_count": 8,
   "metadata": {
    "tags": []
   },
   "outputs": [
    {
     "output_type": "stream",
     "name": "stdout",
     "text": "당신은 영유아입니다.!\n3\n"
    }
   ],
   "source": [
    "age = int(input(\"나이는?\"))\n",
    "\n",
    "if age >= 19:\n",
    "    print(\"당신은 성인입니다.!\")\n",
    "elif age >= 13 and age < 19:\n",
    "    print(\"당신은 미성년자입니다.!\")\n",
    "elif age >= 5 and age < 13:\n",
    "    print(\"당신은 아동입니다.!\")\n",
    "else: \n",
    "    print(\"당신은 영유아입니다.!\")\n",
    "print(age)"
   ]
  },
  {
   "cell_type": "code",
   "execution_count": 30,
   "metadata": {
    "tags": []
   },
   "outputs": [
    {
     "output_type": "stream",
     "name": "stdout",
     "text": "철수의 나이는 ? 35 세\n영희의 나이는 ? 32 세\n"
    }
   ],
   "source": [
    "age1 = input(\"철수의 나이는?\")\n",
    "age_digit1 = int(age1)\n",
    "\n",
    "age2 = input(\"영희의 나이는?\")\n",
    "age_digit2 = int(age2)\n",
    "\n",
    "print(\"철수의 나이는 ?\", age1,\"세\")\n",
    "print(\"영희의 나이는 ?\", age2,\"세\")\n",
    "\n",
    "if not age_digit1 >= 19:\n",
    "    print(\"19금\")"
   ]
  },
  {
   "cell_type": "code",
   "execution_count": 33,
   "metadata": {
    "tags": []
   },
   "outputs": [
    {
     "output_type": "stream",
     "name": "stdout",
     "text": "레스토랑 가즈아~!\n"
    }
   ],
   "source": [
    "cash = int(input(\"현금은?\"))\n",
    "if cash > 100000:\n",
    "    print('레스토랑 가즈아~!')"
   ]
  },
  {
   "cell_type": "code",
   "execution_count": 12,
   "metadata": {
    "tags": []
   },
   "outputs": [
    {
     "output_type": "stream",
     "name": "stdout",
     "text": "48000\n집\n"
    }
   ],
   "source": [
    "cash = int(input(\"현금은?\"))\n",
    "print(cash)\n",
    "if cash > 100000:\n",
    "    print(\"레스토랑\")\n",
    "else:\n",
    "    if cash > 50000:\n",
    "        if cash > 70000:\n",
    "            print(\"아웃백\")\n",
    "        elif cash > 60000:\n",
    "            print(\"밥\")\n",
    "        else :\n",
    "            print(\"분식\")\n",
    "    else:\n",
    "        print(\"집\")"
   ]
  },
  {
   "cell_type": "code",
   "execution_count": 1,
   "metadata": {
    "tags": []
   },
   "outputs": [
    {
     "output_type": "stream",
     "name": "stdout",
     "text": "0\n1\n2\n3\n4\n5\n6\n7\n8\n9\n10\n11\n12\n13\n14\n15\n16\n17\n18\n19\n20\n21\n22\n23\n24\n25\n26\n27\n28\n29\n30\n31\n32\n33\n34\n35\n36\n37\n38\n39\n40\n41\n42\n43\n44\n45\n46\n47\n48\n49\n50\n51\n52\n53\n54\n55\n56\n57\n58\n59\n60\n61\n62\n63\n64\n65\n66\n67\n68\n69\n70\n71\n72\n73\n74\n75\n76\n77\n78\n79\n80\n81\n82\n83\n84\n85\n86\n87\n88\n89\n90\n91\n92\n93\n94\n95\n96\n97\n98\n99\n"
    }
   ],
   "source": [
    "for inde in range(100):\n",
    "    print(inde)"
   ]
  },
  {
   "cell_type": "code",
   "execution_count": null,
   "metadata": {},
   "outputs": [],
   "source": [
    "\"\"\"\n",
    "for i in range(반복횟수)\n",
    "    실행코드\n",
    "\"\"\""
   ]
  },
  {
   "cell_type": "code",
   "execution_count": 5,
   "metadata": {
    "tags": []
   },
   "outputs": [
    {
     "output_type": "stream",
     "name": "stdout",
     "text": "55\n"
    }
   ],
   "source": [
    "sum = 0\n",
    "for i in range(1, 11):\n",
    "    sum = sum+i\n",
    "print(sum)"
   ]
  },
  {
   "cell_type": "code",
   "execution_count": 9,
   "metadata": {
    "tags": []
   },
   "outputs": [
    {
     "output_type": "stream",
     "name": "stdout",
     "text": "0\n1\n2\n3\n4\n5\n"
    }
   ],
   "source": [
    "s = 0\n",
    "while s <= 5:\n",
    "    print(s)\n",
    "    s=s+1"
   ]
  },
  {
   "cell_type": "code",
   "execution_count": null,
   "metadata": {},
   "outputs": [],
   "source": []
  },
  {
   "cell_type": "code",
   "execution_count": null,
   "metadata": {},
   "outputs": [],
   "source": []
  },
  {
   "cell_type": "code",
   "execution_count": null,
   "metadata": {},
   "outputs": [],
   "source": []
  }
 ]
}
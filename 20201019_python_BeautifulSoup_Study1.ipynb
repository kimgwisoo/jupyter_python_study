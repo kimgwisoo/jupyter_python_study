{
 "metadata": {
  "language_info": {
   "codemirror_mode": {
    "name": "ipython",
    "version": 3
   },
   "file_extension": ".py",
   "mimetype": "text/x-python",
   "name": "python",
   "nbconvert_exporter": "python",
   "pygments_lexer": "ipython3",
   "version": "3.7.6-final"
  },
  "orig_nbformat": 2,
  "kernelspec": {
   "name": "Python 3.7.6 64-bit ('base': conda)",
   "display_name": "Python 3.7.6 64-bit ('base': conda)",
   "metadata": {
    "interpreter": {
     "hash": "15bc54dd3cab612613c542227413ee8ecea986d8c5753dfe5a1a355e58ce028c"
    }
   }
  }
 },
 "nbformat": 4,
 "nbformat_minor": 2,
 "cells": [
  {
   "cell_type": "code",
   "execution_count": 5,
   "metadata": {},
   "outputs": [],
   "source": [
    "import requests\n",
    "from bs4 import BeautifulSoup"
   ]
  },
  {
   "cell_type": "code",
   "execution_count": 6,
   "metadata": {},
   "outputs": [],
   "source": [
    "import requests\n",
    "from bs4 import BeautifulSoup\n",
    "res = requests.get('https://shoppinghow.kakao.com/top')"
   ]
  },
  {
   "cell_type": "code",
   "execution_count": 7,
   "metadata": {},
   "outputs": [
    {
     "output_type": "execute_result",
     "data": {
      "text/plain": [
       "b'<!DOCTYPE html>\\n<html lang=\"ko\">\\n<head>\\n\\t<meta charset=\"UTF-8\">\\n\\t<meta http-equiv=\"X-UA-Compatible\" content=\"IE=edge\" />\\n\\t<meta property=\"og:title\" content=\"\\xeb\\x8c\\x80\\xed\\x95\\x9c\\xeb\\xaf\\xbc\\xea\\xb5\\xad \\xec\\xb5\\x9c\\xec\\xa0\\x80\\xea\\xb0\\x80 \\xea\\xb0\\x80\\xea\\xb2\\xa9\\xeb\\xb9\\x84\\xea\\xb5\\x90 \\xec\\x87\\xbc\\xed\\x95\\x91! \\xec\\x87\\xbc\\xed\\x95\\x91\\xed\\x95\\x98\\xec\\x9a\\xb0 by kakaocommerce\" />\\n    <meta property=\"og:url\" content=\"//shoppinghow.kakao.com\"/>\\n    <meta property=\"og:image\"\\n          content=\"//shop.daumcdn.net/shophow/front/kakaocommerce_shopping.png\"/>\\n\\t<meta property=\"og:description\" content=\"\\xec\\x87\\xbc\\xed\\x95\\x91\\xed\\x95\\x98\\xec\\x9a\\xb0 by kakaocommerce\\xeb\\x8a\\x94 \\xeb\\x8c\\x80\\xed\\x95\\x9c\\xeb\\xaf\\xbc\\xea\\xb5\\xad \\xec\\x98\\xa8\\xeb\\x9d\\xbc\\xec\\x9d\\xb8 \\xec\\x87\\xbc\\xed\\x95\\x91\\xeb\\xaa\\xb0\\xeb\\x93\\xa4\\xec\\x9d\\x98 \\xec\\x83\\x81\\xed\\x92\\x88 \\xec\\xa0\\x95\\xeb\\xb3\\xb4\\xeb\\xa5\\xbc \\xeb\\xaa\\xa8\\xeb\\x91\\x90 \\xeb\\xaa\\xa8\\xec\\x95\\x84 \\xed\\x95\\x9c\\xeb\\xb2\\x88\\xec\\x97\\x90 \\xea\\xb0\\x80\\xea\\xb2\\xa9\\xeb\\xb9\\x84\\xea\\xb5\\x90\\xea\\xb0\\x80 \\xea\\xb0\\x80\\xeb\\x8a\\xa5\\xed\\x95\\x9c, \\xec\\xb5\\x9c\\xec\\xa0\\x80\\xea\\xb0\\x80 \\xea\\xb0\\x80\\xea\\xb2\\xa9\\xeb\\xb9\\x84\\xea\\xb5\\x90 \\xec\\x84\\x9c\\xeb\\xb9\\x84\\xec\\x8a\\xa4 \\xec\\x9e\\x85\\xeb\\x8b\\x88\\xeb\\x8b\\xa4.\" />\\n\\t<title>\\xec\\x87\\xbc\\xed\\x95\\x91\\xed\\x95\\x98\\xec\\x9a\\xb0 by kakaocommerce</title>\\n\\t\\t\\t<link rel=\"stylesheet\" type=\"text/css\" href=\"//t1.daumcdn.net/shophow_cssjs/kakao/pc-gnb.5c490d110551d5fa0f41.css\">\\n        <link rel=\"stylesheet\" type=\"text/css\" href=\"//t1.daumcdn.net/shophow_cssjs/steve/css/top.min.v1565775015368.css\">\\n\\t\\n\\t<script type=\"text/javascript\" src=\"//t1.daumcdn.net/tiara/js/v1/tiara.min.js\"></script>\\n</head>\\n<body>\\n<div id=\"daumIndex\">\\n\\t<a href=\"#daumBody\">\\xeb\\xb3\\xb8\\xeb\\xac\\xb8 \\xeb\\xb0\\x94\\xeb\\xa1\\x9c\\xea\\xb0\\x80\\xea\\xb8\\xb0</a>\\n\\t<a href=\"#daumGnb\">\\xeb\\xa9\\x94\\xeb\\x89\\xb4 \\xeb\\xb0\\x94\\xeb\\xa1\\x9c\\xea\\xb0\\x80\\xea\\xb8\\xb0</a>\\n</div>\\n<div id=\"daumWrap\" class=\"shopping_top\">\\t<script>\\n\\t\\tdocument.getElementById(\"daumWrap\").className += (window.innerWidth || document.documentElement.clientWidth || document.body.clientWidth) > 1280 ? \\' wide_layout\\' : \\'\\';\\n\\t</script>\\n\\t<div id=\"kakaoHead\" role=\"banner\" class=\"head_shw\"></div>\\n<div id=\"daumHead\" role=\"banner\" class=\"#gnb\"></div>\\n<hr class=\"screen_out\">\\n\\n<div id=\"HeaderDummy\" class=\"hide\" style=\"width:100%;height:187px;\">&nbsp;</div>\\t<div id=\"daumContent\" data-gg=\"{s1:shopping}\">\\n\\t\\t<div id=\"cMain\">\\n\\t\\t\\t<div id=\"mArticle\" role=\"main\">\\n\\t\\t\\t\\t<h2 id=\"daumBody\" class=\"screen_out\">\\xec\\x87\\xbc\\xed\\x95\\x91\\xed\\x95\\x98\\xec\\x9a\\xb0 \\xed\\x99\\x88</h2>\\n\\t\\t\\t</div>\\n\\t\\t</div>\\n\\t\\t<div id=\"cEtc\">\\n\\t\\t\\t<div class=\"#barbanner bnr_item\" style=\"display:none\"></div>\\n\\t\\t\\t<div class=\"#partner wrap_shopping_partner _GL\" data-gg=\"{lk:pctop_partner}\"></div>\\n\\t\\t\\t<div class=\"#notice wrap_notice\"></div>\\n\\t\\t</div>\\n\\t</div>\\n\\t\\n<hr class=\"screen_out\">\\n<!-- // daumContent -->\\n<div class=\\'left_banner\\' id=\\'leftWingBanner\\'></div>\\n<!-- // quick menu -->\\n<div id=\"daumFoot\" class=\"#footer\" role=\"contentinfo\" style=\"display:none\">\\n\\n</div>\\n<hr class=\"screen_out\">\\n<!-- // daumFoot -->\\n<div id=\"wrapMinidaum\" data-gg=\"{lk:pc_gnb_minidaum}\"></div>\\n<a href=\"#top\" class=\"btn_follow\"><span class=\"ico_home ico_follow\">TOP</span></a>\\n</div>\\n\\t\\t        <script type=\"text/javascript\">\\n\\tvar DEFAULTURL = \"/\";\\n\\tvar SERVERNAME = \"front\";\\n\\tvar ADMINYN = \"N\"; \\tvar ADMINLOGINID = \"\"; \\tvar TEMPLATE = {};\\n\\tvar ASYNC = \"N\";\\n\\tvar SERVERDATE = \"20201015\"; \\tvar LOGIN = \"N\";\\n\\t\\twindow.roosevelt_params_queue = window.roosevelt_params_queue || [];\\n\\tvar ROOSEVELT_CHANNEL = \"shoppinghow\";\\n</script>\\n\\n<iframe src=\"about:blank\" style=\"width:0;height:0;position:absolute\" width=\"0\" height=\"0\" frameborder=\"0\" scrolling=\"no\" name=\"koreanClick\" id=\"koreanClick\" title=\"koreanClick\" ></iframe>\\n<iframe src=\"about:blank\" style=\"width:0;height:0;position:absolute\" width=\"0\" height=\"0\" frameborder=\"0\" scrolling=\"no\" name=\"daBcateIframe\" id=\"daBcateIframe\" title=\"daBcateIframe\" ></iframe>\\n\\n<!--[if lt IE 9]>\\n<script type=\"text/javascript\" src=\"//s1.daumcdn.net/svc/original/U03/cssjs/jquery/jquery-1.11.1.js\"></script>\\n<script src=\"//s1.daumcdn.net/svc/original/U03/cssjs/es-shims/es5-shim-4.0.3.min.js\"></script>\\n<![endif]-->\\n\\n\\n<!--[if gte IE 9]><!-->\\n<script type=\"text/javascript\" src=\"//s1.daumcdn.net/svc/original/U03/cssjs/jquery/jquery-2.1.1.js\"></script>\\n<!--<![endif]-->\\n\\n<script async type=\"text/javascript\" charset=\"utf-8\" src=\"//t1.daumcdn.net/kas/static/ba.min.js\"></script>\\n<script type=\"text/javascript\" charset=\"utf-8\" src=\"//t1.daumcdn.net/kas/static/na.min.js\"></script>\\n\\n\\n<script type=\"text/javascript\" src=\"//s1.daumcdn.net/svc/original/U03/cssjs/slide/slide-1.2.13.standalone.min.js\"></script>\\n<script type=\"text/javascript\" src=\"//s1.daumcdn.net/svc/original/U03/cssjs/animation/animation-0.2.5.min.js\"></script>\\n<script type=\"text/javascript\" src=\"//s1.daumcdn.net/svc/original/U03/cssjs/slide/extensions/pc_slide-0.1.0.min.js\"></script>\\n\\n\\t<script type=\"text/javascript\" src=\"//t1.daumcdn.net/shophow_cssjs/steve/js/shopping.common.min.v1589247686805.js\"></script>\\n\\t\\t\\t\\t<script type=\"text/javascript\" src=\"//t1.daumcdn.net/shophow_cssjs/kakao/vendor.merged.5c490d110551d5fa0f41.js\"></script>\\n\\t\\t<script type=\"text/javascript\" src=\"//t1.daumcdn.net/shophow_cssjs/kakao/pc.merged.5c490d110551d5fa0f41.js\"></script>\\n\\t\\t<script type=\"text/javascript\" src=\"//t1.daumcdn.net/shophow_cssjs/kakao/pc-gnb.merged.5c490d110551d5fa0f41.js\"></script>\\n\\t\\t<script type=\"text/javascript\" src=\"//t1.daumcdn.net/shophow_cssjs/kakao/pc-footer.merged.5c490d110551d5fa0f41.js\"></script>\\n\\n\\t\\t<script type=\"text/javascript\" src=\"//t1.daumcdn.net/shophow_cssjs/steve/js/template.top.v1566326511249.js\"></script>\\n\\t\\t<script type=\"text/javascript\" src=\"//t1.daumcdn.net/shophow_cssjs/steve/js/shopping.top.min.v1593759535674.js\"></script>\\n\\n\\t\\n<script type=\"text/javascript\" src=\"//t1.daumcdn.net/shophow_cssjs/steve/js/gargoyle.min.v1565775015368.js\"></script>\\n\\n<script type=\"text/javascript\">\\n\\tShopping.routes[\"top\"] = new TopRouter();\\n\\tBackbone.history.start({root:\"top\",pushState : true});\\n</script>\\n\\n</body>\\n</html>'"
      ]
     },
     "metadata": {},
     "execution_count": 7
    }
   ],
   "source": [
    "import requests\n",
    "from bs4 import BeautifulSoup\n",
    "res = requests.get('https://shoppinghow.kakao.com/top')\n",
    "res.content"
   ]
  },
  {
   "cell_type": "code",
   "execution_count": 9,
   "metadata": {},
   "outputs": [
    {
     "output_type": "execute_result",
     "data": {
      "text/plain": [
       "<!DOCTYPE html>\n",
       "\n",
       "<html lang=\"ko\">\n",
       "<head>\n",
       "<meta charset=\"utf-8\"/>\n",
       "<meta content=\"IE=edge\" http-equiv=\"X-UA-Compatible\">\n",
       "<meta content=\"대한민국 최저가 가격비교 쇼핑! 쇼핑하우 by kakaocommerce\" property=\"og:title\"/>\n",
       "<meta content=\"//shoppinghow.kakao.com\" property=\"og:url\"/>\n",
       "<meta content=\"//shop.daumcdn.net/shophow/front/kakaocommerce_shopping.png\" property=\"og:image\"/>\n",
       "<meta content=\"쇼핑하우 by kakaocommerce는 대한민국 온라인 쇼핑몰들의 상품 정보를 모두 모아 한번에 가격비교가 가능한, 최저가 가격비교 서비스 입니다.\" property=\"og:description\"/>\n",
       "<title>쇼핑하우 by kakaocommerce</title>\n",
       "<link href=\"//t1.daumcdn.net/shophow_cssjs/kakao/pc-gnb.5c490d110551d5fa0f41.css\" rel=\"stylesheet\" type=\"text/css\"/>\n",
       "<link href=\"//t1.daumcdn.net/shophow_cssjs/steve/css/top.min.v1565775015368.css\" rel=\"stylesheet\" type=\"text/css\"/>\n",
       "<script src=\"//t1.daumcdn.net/tiara/js/v1/tiara.min.js\" type=\"text/javascript\"></script>\n",
       "</meta></head>\n",
       "<body>\n",
       "<div id=\"daumIndex\">\n",
       "<a href=\"#daumBody\">본문 바로가기</a>\n",
       "<a href=\"#daumGnb\">메뉴 바로가기</a>\n",
       "</div>\n",
       "<div class=\"shopping_top\" id=\"daumWrap\"> <script>\n",
       "\t\tdocument.getElementById(\"daumWrap\").className += (window.innerWidth || document.documentElement.clientWidth || document.body.clientWidth) > 1280 ? ' wide_layout' : '';\n",
       "\t</script>\n",
       "<div class=\"head_shw\" id=\"kakaoHead\" role=\"banner\"></div>\n",
       "<div class=\"#gnb\" id=\"daumHead\" role=\"banner\"></div>\n",
       "<hr class=\"screen_out\"/>\n",
       "<div class=\"hide\" id=\"HeaderDummy\" style=\"width:100%;height:187px;\"> </div> <div data-gg=\"{s1:shopping}\" id=\"daumContent\">\n",
       "<div id=\"cMain\">\n",
       "<div id=\"mArticle\" role=\"main\">\n",
       "<h2 class=\"screen_out\" id=\"daumBody\">쇼핑하우 홈</h2>\n",
       "</div>\n",
       "</div>\n",
       "<div id=\"cEtc\">\n",
       "<div class=\"#barbanner bnr_item\" style=\"display:none\"></div>\n",
       "<div class=\"#partner wrap_shopping_partner _GL\" data-gg=\"{lk:pctop_partner}\"></div>\n",
       "<div class=\"#notice wrap_notice\"></div>\n",
       "</div>\n",
       "</div>\n",
       "<hr class=\"screen_out\"/>\n",
       "<!-- // daumContent -->\n",
       "<div class=\"left_banner\" id=\"leftWingBanner\"></div>\n",
       "<!-- // quick menu -->\n",
       "<div class=\"#footer\" id=\"daumFoot\" role=\"contentinfo\" style=\"display:none\">\n",
       "</div>\n",
       "<hr class=\"screen_out\"/>\n",
       "<!-- // daumFoot -->\n",
       "<div data-gg=\"{lk:pc_gnb_minidaum}\" id=\"wrapMinidaum\"></div>\n",
       "<a class=\"btn_follow\" href=\"#top\"><span class=\"ico_home ico_follow\">TOP</span></a>\n",
       "</div>\n",
       "<script type=\"text/javascript\">\n",
       "\tvar DEFAULTURL = \"/\";\n",
       "\tvar SERVERNAME = \"front\";\n",
       "\tvar ADMINYN = \"N\"; \tvar ADMINLOGINID = \"\"; \tvar TEMPLATE = {};\n",
       "\tvar ASYNC = \"N\";\n",
       "\tvar SERVERDATE = \"20201015\"; \tvar LOGIN = \"N\";\n",
       "\t\twindow.roosevelt_params_queue = window.roosevelt_params_queue || [];\n",
       "\tvar ROOSEVELT_CHANNEL = \"shoppinghow\";\n",
       "</script>\n",
       "<iframe frameborder=\"0\" height=\"0\" id=\"koreanClick\" name=\"koreanClick\" scrolling=\"no\" src=\"about:blank\" style=\"width:0;height:0;position:absolute\" title=\"koreanClick\" width=\"0\"></iframe>\n",
       "<iframe frameborder=\"0\" height=\"0\" id=\"daBcateIframe\" name=\"daBcateIframe\" scrolling=\"no\" src=\"about:blank\" style=\"width:0;height:0;position:absolute\" title=\"daBcateIframe\" width=\"0\"></iframe>\n",
       "<!--[if lt IE 9]>\n",
       "<script type=\"text/javascript\" src=\"//s1.daumcdn.net/svc/original/U03/cssjs/jquery/jquery-1.11.1.js\"></script>\n",
       "<script src=\"//s1.daumcdn.net/svc/original/U03/cssjs/es-shims/es5-shim-4.0.3.min.js\"></script>\n",
       "<![endif]-->\n",
       "<!--[if gte IE 9]><!-->\n",
       "<script src=\"//s1.daumcdn.net/svc/original/U03/cssjs/jquery/jquery-2.1.1.js\" type=\"text/javascript\"></script>\n",
       "<!--<![endif]-->\n",
       "<script async=\"\" charset=\"utf-8\" src=\"//t1.daumcdn.net/kas/static/ba.min.js\" type=\"text/javascript\"></script>\n",
       "<script charset=\"utf-8\" src=\"//t1.daumcdn.net/kas/static/na.min.js\" type=\"text/javascript\"></script>\n",
       "<script src=\"//s1.daumcdn.net/svc/original/U03/cssjs/slide/slide-1.2.13.standalone.min.js\" type=\"text/javascript\"></script>\n",
       "<script src=\"//s1.daumcdn.net/svc/original/U03/cssjs/animation/animation-0.2.5.min.js\" type=\"text/javascript\"></script>\n",
       "<script src=\"//s1.daumcdn.net/svc/original/U03/cssjs/slide/extensions/pc_slide-0.1.0.min.js\" type=\"text/javascript\"></script>\n",
       "<script src=\"//t1.daumcdn.net/shophow_cssjs/steve/js/shopping.common.min.v1589247686805.js\" type=\"text/javascript\"></script>\n",
       "<script src=\"//t1.daumcdn.net/shophow_cssjs/kakao/vendor.merged.5c490d110551d5fa0f41.js\" type=\"text/javascript\"></script>\n",
       "<script src=\"//t1.daumcdn.net/shophow_cssjs/kakao/pc.merged.5c490d110551d5fa0f41.js\" type=\"text/javascript\"></script>\n",
       "<script src=\"//t1.daumcdn.net/shophow_cssjs/kakao/pc-gnb.merged.5c490d110551d5fa0f41.js\" type=\"text/javascript\"></script>\n",
       "<script src=\"//t1.daumcdn.net/shophow_cssjs/kakao/pc-footer.merged.5c490d110551d5fa0f41.js\" type=\"text/javascript\"></script>\n",
       "<script src=\"//t1.daumcdn.net/shophow_cssjs/steve/js/template.top.v1566326511249.js\" type=\"text/javascript\"></script>\n",
       "<script src=\"//t1.daumcdn.net/shophow_cssjs/steve/js/shopping.top.min.v1593759535674.js\" type=\"text/javascript\"></script>\n",
       "<script src=\"//t1.daumcdn.net/shophow_cssjs/steve/js/gargoyle.min.v1565775015368.js\" type=\"text/javascript\"></script>\n",
       "<script type=\"text/javascript\">\n",
       "\tShopping.routes[\"top\"] = new TopRouter();\n",
       "\tBackbone.history.start({root:\"top\",pushState : true});\n",
       "</script>\n",
       "</body>\n",
       "</html>"
      ]
     },
     "metadata": {},
     "execution_count": 9
    }
   ],
   "source": [
    "import requests\n",
    "from bs4 import BeautifulSoup\n",
    "res = requests.get('https://shoppinghow.kakao.com/top')\n",
    "res.content\n",
    "soup = BeautifulSoup(res.content, 'html.parser')\n",
    "soup"
   ]
  },
  {
   "cell_type": "code",
   "execution_count": 18,
   "metadata": {},
   "outputs": [],
   "source": [
    "import requests\n",
    "from bs4 import BeautifulSoup\n",
    "res = requests.get('https://shoppinghow.kakao.com/top')\n",
    "res.content\n",
    "soup = BeautifulSoup(res.content, 'html.parser')\n",
    "mydata = soup.find('h2')"
   ]
  },
  {
   "cell_type": "code",
   "execution_count": 21,
   "metadata": {},
   "outputs": [
    {
     "output_type": "execute_result",
     "data": {
      "text/plain": [
       "'쇼핑하우 홈'"
      ]
     },
     "metadata": {},
     "execution_count": 21
    }
   ],
   "source": []
  },
  {
   "cell_type": "code",
   "execution_count": 23,
   "metadata": {},
   "outputs": [
    {
     "output_type": "stream",
     "name": "stdout",
     "text": [
      "쇼핑하우 홈\n"
     ]
    }
   ],
   "source": [
    "import requests\n",
    "from bs4 import BeautifulSoup\n",
    "res = requests.get('https://shoppinghow.kakao.com/top')\n",
    "soup = BeautifulSoup(res.content, 'html.parser')\n",
    "mydata = soup.find('h2')\n",
    "print(mydata.get_text())"
   ]
  },
  {
   "cell_type": "code",
   "execution_count": 9,
   "metadata": {},
   "outputs": [
    {
     "output_type": "stream",
     "name": "stdout",
     "text": [
      "웹페이지에서 필요한 데이터를 추출하는 것\n파이썬을 중심으로 다양한 웹크롤링 기술 발달\n웹페이지에서 필요한 데이터를 추출하는 것\n파이썬을 중심으로 다양한 웹크롤링 기술 발달\n"
     ]
    }
   ],
   "source": [
    "from bs4 import BeautifulSoup\n",
    "html = \"\"\"\n",
    "<html> \\\n",
    "    <body> \\\n",
    "        <h1 id='title'>[1]크롤링이란?</h1> \\\n",
    "        <p class='cssstyle'>웹페이지에서 필요한 데이터를 추출하는 것</p> \\\n",
    "        <p id='body' align='center'>파이썬을 중심으로 다양한 웹크롤링 기술 발달</p> \\\n",
    "    </body> \\\n",
    "</html>\n",
    "\"\"\"\n",
    "soup = BeautifulSoup(html, \"html.parser\")\n",
    "# 태그로 검색 방법\n",
    "data = soup.find('p', class_='cssstyle')\n",
    "# 속성으로 검색 방법\n",
    "data2 = soup.find('p', attrs = {'id':'body', 'align':'center'})\n",
    "\n",
    "data3 = soup.find_all('p')\n",
    "for item in data3:\n",
    "    print(item.string)\n",
    "\n",
    "print(data.string)\n",
    "print(data2.string)"
   ]
  },
  {
   "cell_type": "code",
   "execution_count": null,
   "metadata": {},
   "outputs": [],
   "source": []
  }
 ]
}